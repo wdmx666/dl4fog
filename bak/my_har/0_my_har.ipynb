{
 "cells": [
  {
   "cell_type": "code",
   "execution_count": 2,
   "metadata": {},
   "outputs": [],
   "source": [
    "DATADIR = r'E:\\my_proj\\fog_recognition\\fog_optimization\\dl4fog\\resources\\UCI HAR Dataset'\n",
    "SIGNALS = [\"body_acc_x\", \"body_acc_y\", \"body_acc_z\", \"body_gyro_x\", \"body_gyro_y\", \"body_gyro_z\", \"total_acc_x\",\n",
    "           \"total_acc_y\", \"total_acc_z\"]"
   ]
  },
  {
   "cell_type": "code",
   "execution_count": 4,
   "metadata": {},
   "outputs": [],
   "source": [
    "\n",
    "import pandas as pd\n",
    "import numpy as np\n",
    "\n",
    "\n",
    "def _read_csv(filename):\n",
    "    return pd.read_csv(filename, delim_whitespace=True, header=None)\n",
    "\n",
    "def load_signals(subset):\n",
    "    signals_data = []\n",
    "\n",
    "    for signal in SIGNALS:\n",
    "        filename = f'{DATADIR}/{subset}/Inertial Signals/{signal}_{subset}.txt'\n",
    "        print(filename)\n",
    "        signals_data.append(_read_csv(filename).as_matrix()) \n",
    "\n",
    "    # Transpose is used to change the dimensionality of the output,\n",
    "    # aggregating the signals by combination of sample/timestep.\n",
    "    # Resultant shape is (7352 train/2947 test samples, 128 timesteps, 9 signals)\n",
    "    return np.transpose(signals_data, (1, 2, 0))\n",
    "\n",
    "def load_y(subset):\n",
    "    \"\"\"\n",
    "    The objective that we are trying to predict is a integer, from 1 to 6,\n",
    "    that represents a human activity. We return a binary representation of \n",
    "    every sample objective as a 6 bits vector using One Hot Encoding\n",
    "    (https://pandas.pydata.org/pandas-docs/stable/generated/pandas.get_dummies.html)\n",
    "    \"\"\"\n",
    "    filename = f'{DATADIR}/{subset}/y_{subset}.txt'\n",
    "    y = _read_csv(filename)[0]\n",
    "\n",
    "    return pd.get_dummies(y).as_matrix()\n",
    "\n",
    "def load_data():\n",
    "    \"\"\"\n",
    "    Obtain the dataset from multiple files.\n",
    "    Returns: X_train, X_test, y_train, y_test\n",
    "    \"\"\"\n",
    "    X_train, X_test = load_signals('train'), load_signals('test')\n",
    "    y_train, y_test = load_y('train'), load_y('test')\n",
    "\n",
    "    return X_train, X_test, y_train, y_test\n"
   ]
  },
  {
   "cell_type": "code",
   "execution_count": null,
   "metadata": {},
   "outputs": [],
   "source": [
    "load_signals('train')"
   ]
  },
  {
   "cell_type": "code",
   "execution_count": 6,
   "metadata": {},
   "outputs": [],
   "source": [
    "f1=r'E:\\my_proj\\fog_recognition\\fog_optimization\\dl4fog\\resources\\UCI HAR Dataset/train/Inertial Signals/body_acc_x_train.txt'\n",
    "df=_read_csv(f1)"
   ]
  },
  {
   "cell_type": "code",
   "execution_count": null,
   "metadata": {},
   "outputs": [],
   "source": [
    "signals_data = []\n",
    "subset='train'\n",
    "for signal in SIGNALS:\n",
    "    filename = f'{DATADIR}/{subset}/Inertial Signals/{signal}_{subset}.txt'\n",
    "    print(filename)\n",
    "    signals_data.append(_read_csv(filename).as_matrix())"
   ]
  },
  {
   "cell_type": "code",
   "execution_count": 13,
   "metadata": {},
   "outputs": [
    {
     "data": {
      "text/plain": [
       "(128, 7352, 9)"
      ]
     },
     "execution_count": 13,
     "metadata": {},
     "output_type": "execute_result"
    }
   ],
   "source": [
    "np.transpose(signals_data).shape"
   ]
  },
  {
   "cell_type": "code",
   "execution_count": null,
   "metadata": {},
   "outputs": [],
   "source": []
  },
  {
   "cell_type": "code",
   "execution_count": null,
   "metadata": {},
   "outputs": [],
   "source": [
    "ACTIVITIES = {\n",
    "    0: 'WALKING',\n",
    "    1: 'WALKING_UPSTAIRS',\n",
    "    2: 'WALKING_DOWNSTAIRS',\n",
    "    3: 'SITTING',\n",
    "    4: 'STANDING',\n",
    "    5: 'LAYING',\n",
    "}\n",
    "\n",
    "def confusion_matrix(Y_true, Y_pred):\n",
    "    Y_true = pd.Series([ACTIVITIES[y] for y in np.argmax(Y_true, axis=1)])\n",
    "    Y_pred = pd.Series([ACTIVITIES[y] for y in np.argmax(Y_pred, axis=1)])\n",
    "\n",
    "    return pd.crosstab(Y_true, Y_pred, rownames=['True'], colnames=['Pred'])\n"
   ]
  },
  {
   "cell_type": "code",
   "execution_count": null,
   "metadata": {},
   "outputs": [],
   "source": [
    "\n",
    "X_train, X_test, Y_train, Y_test = load_data()\n"
   ]
  },
  {
   "cell_type": "code",
   "execution_count": 7,
   "metadata": {},
   "outputs": [],
   "source": [
    "\n"
   ]
  },
  {
   "cell_type": "code",
   "execution_count": 14,
   "metadata": {},
   "outputs": [
    {
     "name": "stderr",
     "output_type": "stream",
     "text": [
      "F:\\environment\\Anaconda3\\lib\\site-packages\\h5py\\__init__.py:36: FutureWarning: Conversion of the second argument of issubdtype from `float` to `np.floating` is deprecated. In future, it will be treated as `np.float64 == np.dtype(float).type`.\n",
      "  from ._conv import register_converters as _register_converters\n",
      "Using TensorFlow backend.\n"
     ]
    },
    {
     "name": "stdout",
     "output_type": "stream",
     "text": [
      "E:\\my_proj\\fog_recognition\\fog_optimization\\dl4fog\\resources\\UCI HAR Dataset/train/Inertial Signals/body_acc_x_train.txt\n",
      "E:\\my_proj\\fog_recognition\\fog_optimization\\dl4fog\\resources\\UCI HAR Dataset/train/Inertial Signals/body_acc_y_train.txt\n",
      "E:\\my_proj\\fog_recognition\\fog_optimization\\dl4fog\\resources\\UCI HAR Dataset/train/Inertial Signals/body_acc_z_train.txt\n",
      "E:\\my_proj\\fog_recognition\\fog_optimization\\dl4fog\\resources\\UCI HAR Dataset/train/Inertial Signals/body_gyro_x_train.txt\n",
      "E:\\my_proj\\fog_recognition\\fog_optimization\\dl4fog\\resources\\UCI HAR Dataset/train/Inertial Signals/body_gyro_y_train.txt\n",
      "E:\\my_proj\\fog_recognition\\fog_optimization\\dl4fog\\resources\\UCI HAR Dataset/train/Inertial Signals/body_gyro_z_train.txt\n",
      "E:\\my_proj\\fog_recognition\\fog_optimization\\dl4fog\\resources\\UCI HAR Dataset/train/Inertial Signals/total_acc_x_train.txt\n",
      "E:\\my_proj\\fog_recognition\\fog_optimization\\dl4fog\\resources\\UCI HAR Dataset/train/Inertial Signals/total_acc_y_train.txt\n",
      "E:\\my_proj\\fog_recognition\\fog_optimization\\dl4fog\\resources\\UCI HAR Dataset/train/Inertial Signals/total_acc_z_train.txt\n",
      "E:\\my_proj\\fog_recognition\\fog_optimization\\dl4fog\\resources\\UCI HAR Dataset/test/Inertial Signals/body_acc_x_test.txt\n",
      "E:\\my_proj\\fog_recognition\\fog_optimization\\dl4fog\\resources\\UCI HAR Dataset/test/Inertial Signals/body_acc_y_test.txt\n",
      "E:\\my_proj\\fog_recognition\\fog_optimization\\dl4fog\\resources\\UCI HAR Dataset/test/Inertial Signals/body_acc_z_test.txt\n",
      "E:\\my_proj\\fog_recognition\\fog_optimization\\dl4fog\\resources\\UCI HAR Dataset/test/Inertial Signals/body_gyro_x_test.txt\n",
      "E:\\my_proj\\fog_recognition\\fog_optimization\\dl4fog\\resources\\UCI HAR Dataset/test/Inertial Signals/body_gyro_y_test.txt\n",
      "E:\\my_proj\\fog_recognition\\fog_optimization\\dl4fog\\resources\\UCI HAR Dataset/test/Inertial Signals/body_gyro_z_test.txt\n",
      "E:\\my_proj\\fog_recognition\\fog_optimization\\dl4fog\\resources\\UCI HAR Dataset/test/Inertial Signals/total_acc_x_test.txt\n",
      "E:\\my_proj\\fog_recognition\\fog_optimization\\dl4fog\\resources\\UCI HAR Dataset/test/Inertial Signals/total_acc_y_test.txt\n",
      "E:\\my_proj\\fog_recognition\\fog_optimization\\dl4fog\\resources\\UCI HAR Dataset/test/Inertial Signals/total_acc_z_test.txt\n",
      "Train on 7352 samples, validate on 2947 samples\n",
      "Epoch 1/30\n",
      "7352/7352 [==============================] - 27s 4ms/step - loss: 1.3139 - acc: 0.4358 - val_loss: 1.1352 - val_acc: 0.4700\n",
      "Epoch 2/30\n",
      "7352/7352 [==============================] - 26s 4ms/step - loss: 0.9788 - acc: 0.5773 - val_loss: 0.9513 - val_acc: 0.5884\n",
      "Epoch 3/30\n",
      "7352/7352 [==============================] - 26s 4ms/step - loss: 0.7977 - acc: 0.6457 - val_loss: 0.8343 - val_acc: 0.6013\n",
      "Epoch 4/30\n",
      "7352/7352 [==============================] - 26s 4ms/step - loss: 0.6989 - acc: 0.6582 - val_loss: 0.7532 - val_acc: 0.6098\n",
      "Epoch 5/30\n",
      "7352/7352 [==============================] - 26s 4ms/step - loss: 0.6359 - acc: 0.6797 - val_loss: 0.7335 - val_acc: 0.6183\n",
      "Epoch 6/30\n",
      "7352/7352 [==============================] - 26s 4ms/step - loss: 0.5819 - acc: 0.6865 - val_loss: 0.8786 - val_acc: 0.6098\n",
      "Epoch 7/30\n",
      "7352/7352 [==============================] - 26s 4ms/step - loss: 0.5676 - acc: 0.7058 - val_loss: 0.8191 - val_acc: 0.6132\n",
      "Epoch 8/30\n",
      "7352/7352 [==============================] - 26s 4ms/step - loss: 0.5583 - acc: 0.7217 - val_loss: 0.6639 - val_acc: 0.7190\n",
      "Epoch 9/30\n",
      "7352/7352 [==============================] - 26s 4ms/step - loss: 0.5386 - acc: 0.7557 - val_loss: 0.6388 - val_acc: 0.7167\n",
      "Epoch 10/30\n",
      "7352/7352 [==============================] - 26s 4ms/step - loss: 0.4804 - acc: 0.7911 - val_loss: 0.5077 - val_acc: 0.7509\n",
      "Epoch 11/30\n",
      "7352/7352 [==============================] - 25s 3ms/step - loss: 0.4320 - acc: 0.8052 - val_loss: 0.5143 - val_acc: 0.7418\n",
      "Epoch 12/30\n",
      "7352/7352 [==============================] - 25s 3ms/step - loss: 0.4279 - acc: 0.8062 - val_loss: 0.4951 - val_acc: 0.7472\n",
      "Epoch 13/30\n",
      "7352/7352 [==============================] - 24s 3ms/step - loss: 0.3911 - acc: 0.8130 - val_loss: 0.5606 - val_acc: 0.7516\n",
      "Epoch 14/30\n",
      "7352/7352 [==============================] - 24s 3ms/step - loss: 0.3898 - acc: 0.8313 - val_loss: 0.4518 - val_acc: 0.8137\n",
      "Epoch 15/30\n",
      "7352/7352 [==============================] - 24s 3ms/step - loss: 0.3308 - acc: 0.8942 - val_loss: 0.4732 - val_acc: 0.8633\n",
      "Epoch 16/30\n",
      "7352/7352 [==============================] - 25s 3ms/step - loss: 0.2891 - acc: 0.9176 - val_loss: 0.3794 - val_acc: 0.8765\n",
      "Epoch 17/30\n",
      "7352/7352 [==============================] - 26s 4ms/step - loss: 0.2660 - acc: 0.9246 - val_loss: 0.5082 - val_acc: 0.8660\n",
      "Epoch 18/30\n",
      "7352/7352 [==============================] - 26s 4ms/step - loss: 0.2538 - acc: 0.9251 - val_loss: 0.4772 - val_acc: 0.8806\n",
      "Epoch 19/30\n",
      "7352/7352 [==============================] - 26s 4ms/step - loss: 0.2502 - acc: 0.9312 - val_loss: 0.7013 - val_acc: 0.8307\n",
      "Epoch 20/30\n",
      "7352/7352 [==============================] - 26s 4ms/step - loss: 0.1980 - acc: 0.9382 - val_loss: 0.3988 - val_acc: 0.8890\n",
      "Epoch 21/30\n",
      "7352/7352 [==============================] - 26s 4ms/step - loss: 0.2018 - acc: 0.9372 - val_loss: 1.7682 - val_acc: 0.7075\n",
      "Epoch 22/30\n",
      "7352/7352 [==============================] - 26s 4ms/step - loss: 0.2455 - acc: 0.9310 - val_loss: 0.5812 - val_acc: 0.8687\n",
      "Epoch 23/30\n",
      "7352/7352 [==============================] - 26s 4ms/step - loss: 0.2194 - acc: 0.9329 - val_loss: 0.6468 - val_acc: 0.8744\n",
      "Epoch 24/30\n",
      "7352/7352 [==============================] - 26s 4ms/step - loss: 0.2282 - acc: 0.9304 - val_loss: 0.4721 - val_acc: 0.8741\n",
      "Epoch 25/30\n",
      "7352/7352 [==============================] - 26s 4ms/step - loss: 0.2166 - acc: 0.9359 - val_loss: 0.4131 - val_acc: 0.8938\n",
      "Epoch 26/30\n",
      "7352/7352 [==============================] - 26s 4ms/step - loss: 0.2173 - acc: 0.9350 - val_loss: 0.4841 - val_acc: 0.8887\n",
      "Epoch 27/30\n",
      "7352/7352 [==============================] - 26s 4ms/step - loss: 0.2224 - acc: 0.9353 - val_loss: 0.3590 - val_acc: 0.8935\n",
      "Epoch 28/30\n",
      "7352/7352 [==============================] - 26s 4ms/step - loss: 0.1961 - acc: 0.9385 - val_loss: 0.5297 - val_acc: 0.8802\n",
      "Epoch 29/30\n",
      "7352/7352 [==============================] - 26s 4ms/step - loss: 0.1876 - acc: 0.9416 - val_loss: 0.4324 - val_acc: 0.8924\n",
      "Epoch 30/30\n",
      "7352/7352 [==============================] - 26s 4ms/step - loss: 0.1999 - acc: 0.9411 - val_loss: 0.4883 - val_acc: 0.8829\n"
     ]
    },
    {
     "ename": "NameError",
     "evalue": "name 'confusion_matrix' is not defined",
     "output_type": "error",
     "traceback": [
      "\u001b[1;31m---------------------------------------------------------------------------\u001b[0m",
      "\u001b[1;31mNameError\u001b[0m                                 Traceback (most recent call last)",
      "\u001b[1;32m<ipython-input-14-dd5e9866f2e6>\u001b[0m in \u001b[0;36m<module>\u001b[1;34m()\u001b[0m\n\u001b[0;32m     46\u001b[0m \u001b[1;33m\u001b[0m\u001b[0m\n\u001b[0;32m     47\u001b[0m \u001b[1;31m# Evaluate\u001b[0m\u001b[1;33m\u001b[0m\u001b[1;33m\u001b[0m\u001b[0m\n\u001b[1;32m---> 48\u001b[1;33m \u001b[0mprint\u001b[0m\u001b[1;33m(\u001b[0m\u001b[0mconfusion_matrix\u001b[0m\u001b[1;33m(\u001b[0m\u001b[0mY_test\u001b[0m\u001b[1;33m,\u001b[0m \u001b[0mmodel\u001b[0m\u001b[1;33m.\u001b[0m\u001b[0mpredict\u001b[0m\u001b[1;33m(\u001b[0m\u001b[0mX_test\u001b[0m\u001b[1;33m)\u001b[0m\u001b[1;33m)\u001b[0m\u001b[1;33m)\u001b[0m\u001b[1;33m\u001b[0m\u001b[0m\n\u001b[0m",
      "\u001b[1;31mNameError\u001b[0m: name 'confusion_matrix' is not defined"
     ]
    }
   ],
   "source": [
    "import numpy as np\n",
    "np.random.seed(42)\n",
    "import tensorflow as tf\n",
    "tf.set_random_seed(42)\n",
    "\n",
    "# for reproducibility\n",
    "# https://github.com/fchollet/keras/issues/2280\n",
    "session_conf = tf.ConfigProto(intra_op_parallelism_threads=1, inter_op_parallelism_threads=1)\n",
    "\n",
    "from keras import backend as K\n",
    "sess = tf.Session(graph=tf.get_default_graph(), config=session_conf)\n",
    "K.set_session(sess)\n",
    "\n",
    "from keras.models import Sequential\n",
    "from keras.layers import LSTM\n",
    "from keras.layers.core import Dense, Dropout\n",
    "\n",
    "\n",
    "epochs = 30\n",
    "batch_size = 16\n",
    "n_hidden = 32\n",
    "\n",
    "def _count_classes(y):\n",
    "    return len(set([tuple(category) for category in y]))\n",
    "\n",
    "X_train, X_test, Y_train, Y_test = load_data()\n",
    "\n",
    "timesteps = len(X_train[0])\n",
    "input_dim = len(X_train[0][0])\n",
    "n_classes = _count_classes(Y_train)\n",
    "\n",
    "model = Sequential()\n",
    "model.add(LSTM(n_hidden, input_shape=(timesteps, input_dim)))\n",
    "model.add(Dropout(0.5))\n",
    "model.add(Dense(n_classes, activation='sigmoid'))\n",
    "\n",
    "model.compile(loss='categorical_crossentropy',optimizer='rmsprop',metrics=['accuracy'])\n",
    "\n",
    "model.fit(X_train,Y_train,\n",
    "          batch_size=batch_size,\n",
    "          validation_data=(X_test, Y_test),\n",
    "          epochs=epochs)\n",
    "\n",
    "# Evaluate\n",
    "print(confusion_matrix(Y_test, model.predict(X_test)))"
   ]
  },
  {
   "cell_type": "code",
   "execution_count": null,
   "metadata": {},
   "outputs": [],
   "source": []
  }
 ],
 "metadata": {
  "kernelspec": {
   "display_name": "Python 3",
   "language": "python",
   "name": "python3"
  },
  "language_info": {
   "codemirror_mode": {
    "name": "ipython",
    "version": 3
   },
   "file_extension": ".py",
   "mimetype": "text/x-python",
   "name": "python",
   "nbconvert_exporter": "python",
   "pygments_lexer": "ipython3",
   "version": "3.6.4"
  }
 },
 "nbformat": 4,
 "nbformat_minor": 1
}
